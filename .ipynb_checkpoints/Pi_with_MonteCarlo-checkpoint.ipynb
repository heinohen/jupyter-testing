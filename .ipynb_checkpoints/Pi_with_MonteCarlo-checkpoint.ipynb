{
 "cells": [
  {
   "cell_type": "markdown",
   "id": "aa0e4bb8-dfbc-49ec-b95b-8ac96e7b5166",
   "metadata": {},
   "source": [
    "# Calculating pi using Monte Carlo methods"
   ]
  },
  {
   "cell_type": "markdown",
   "id": "cdc2a5f2-44ae-447e-8769-443962c735cb",
   "metadata": {},
   "source": [
    "## Relevant formulas\n",
    "\n",
    "- square area $s = (2 r)^2$\n",
    "- circle area $c = \\pi r^2$\n",
    "- $c/s = (\\pi r^2) / (4 r^2) = \\pi / 4$\n",
    "- $\\pi = 4 * c/s$"
   ]
  },
  {
   "cell_type": "markdown",
   "id": "0586e4a4-a311-4919-a106-ba4c9e03fd43",
   "metadata": {},
   "source": [
    "## Image to visualize the concept\n",
    "\n",
    "![Darts](https://raw.githubusercontent.com/coderefinery/jupyter/main/example/darts.svg)"
   ]
  }
 ],
 "metadata": {
  "kernelspec": {
   "display_name": "Python 3 (ipykernel)",
   "language": "python",
   "name": "python3"
  },
  "language_info": {
   "codemirror_mode": {
    "name": "ipython",
    "version": 3
   },
   "file_extension": ".py",
   "mimetype": "text/x-python",
   "name": "python",
   "nbconvert_exporter": "python",
   "pygments_lexer": "ipython3",
   "version": "3.10.6"
  }
 },
 "nbformat": 4,
 "nbformat_minor": 5
}
